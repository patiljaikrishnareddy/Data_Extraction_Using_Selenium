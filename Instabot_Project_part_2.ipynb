{
 "cells": [
  {
   "cell_type": "code",
   "execution_count": 156,
   "id": "866eb249",
   "metadata": {},
   "outputs": [],
   "source": [
    "#This code was perfectly working while I was coding it. \n",
    "#Classes may change as Instagram is continuously updating its website\n",
    "\n",
    "from selenium import webdriver\n",
    "from webdriver_manager.chrome import ChromeDriverManager\n",
    "from selenium.webdriver.chrome.service import Service\n",
    "from selenium.webdriver.common.by import By\n",
    "from selenium.webdriver.support.ui import WebDriverWait\n",
    "from selenium.webdriver.support import expected_conditions as EC\n",
    "from selenium.webdriver.support.select import Select\n",
    "import matplotlib.pyplot as plt\n",
    "import pandas as pd\n",
    "import time\n",
    "import re\n",
    "\n",
    "s=Service(\"\\\\Users\\\\JK\\\\Desktop\\\\Oops,Files,Numpy\\\\chromedriver_win32\\\\chromedriver.exe\")\n",
    "driver = webdriver.Chrome(service=s)\n",
    "driver.get(\"https://www.instagram.com/\")"
   ]
  },
  {
   "cell_type": "code",
   "execution_count": 157,
   "id": "72bcdfcc",
   "metadata": {},
   "outputs": [],
   "source": [
    "#Logging in\n",
    "username = driver.find_element(By.NAME, 'username')\n",
    "username.click()\n",
    "username.send_keys(\"SAMPLE USERNAME\")\n",
    "password = driver.find_element(By.NAME, 'password')\n",
    "password.click()\n",
    "password.send_keys(\"SAMPLE PASSWORD\")"
   ]
  },
  {
   "cell_type": "code",
   "execution_count": 158,
   "id": "58638d73",
   "metadata": {},
   "outputs": [],
   "source": [
    "#password submission\n",
    "password.submit()"
   ]
  },
  {
   "cell_type": "code",
   "execution_count": 159,
   "id": "9de0c6b5",
   "metadata": {},
   "outputs": [],
   "source": [
    "#Declining the notifications popup\n",
    "notification = driver.find_element(By.XPATH,'//div[contains(@class,\"mt3GC\")]/button[2]')\n",
    "notification.click()\n"
   ]
  },
  {
   "cell_type": "markdown",
   "id": "d0ea3a66",
   "metadata": {},
   "source": [
    "# 1/1.From the list of instagram handles you obtained when you searched ‘food’ in previous project. Open the first 10 handles and find the top 5 which have the highest number of followers"
   ]
  },
  {
   "cell_type": "code",
   "execution_count": 160,
   "id": "9e53eb81",
   "metadata": {},
   "outputs": [],
   "source": [
    "#for finding search button\n",
    "search_btn = driver.find_element(By.XPATH,'//div[contains(@class,\"P0xOK\")]')\n",
    "search_btn.click()"
   ]
  },
  {
   "cell_type": "code",
   "execution_count": 161,
   "id": "6a6c08ff",
   "metadata": {},
   "outputs": [],
   "source": [
    "#searching in the search box\n",
    "a=driver.find_element(By.CLASS_NAME,'DljaH')\n",
    "a.send_keys(\"food\")"
   ]
  },
  {
   "cell_type": "code",
   "execution_count": 162,
   "id": "5d25ef0a",
   "metadata": {},
   "outputs": [],
   "source": [
    "#retrieving the top 10 accounts\n",
    "food_list=driver.find_elements(By.CLASS_NAME,'-qQT3')\n",
    "count=0\n",
    "accounts_list=[]\n",
    "for i in food_list:\n",
    "    if count==10:\n",
    "        break\n",
    "    account_name=i.text.split()[0]\n",
    "    if account_name[0]!=\"#\":\n",
    "        accounts_list.append(account_name)\n",
    "        count+=1"
   ]
  },
  {
   "cell_type": "code",
   "execution_count": 163,
   "id": "5713b70e",
   "metadata": {},
   "outputs": [
    {
     "data": {
      "text/plain": [
       "['foodie_incarnate', 'foodzeee', 'dilsefoodie', 'foodtalkindia', 'food']"
      ]
     },
     "execution_count": 163,
     "metadata": {},
     "output_type": "execute_result"
    }
   ],
   "source": [
    "#obtaining the top 5 handles with highest numbers of followers\n",
    "followers_dict={}\n",
    "\n",
    "for acc in accounts_list:\n",
    "    driver.get(\"https://www.instagram.com/\"+str(acc))\n",
    "    wait=WebDriverWait(driver,10)\n",
    "    followers_btn=wait.until(EC.presence_of_all_elements_located((By.CLASS_NAME,\"Y8-fY\")))\n",
    "    followers_btn1=followers_btn[1].find_element(By.TAG_NAME,\"span\")\n",
    "    followers_count=followers_btn1.get_attribute('title')\n",
    "    followers_count=followers_count.replace(',','')\n",
    "    followers_dict[acc]=int(followers_count)\n",
    "\n",
    "followers_dict=dict(sorted(followers_dict.items(),key=lambda x:x[1],reverse=True))\n",
    "top_5_list=[]\n",
    "count=0\n",
    "for key,val in followers_dict.items():\n",
    "    if count==5:\n",
    "        break\n",
    "    top_5_list.append(key)\n",
    "    count+=1\n",
    "top_5_list"
   ]
  },
  {
   "cell_type": "markdown",
   "id": "230d3845",
   "metadata": {},
   "source": [
    "# 1/2.Now Find the number of posts these handles have done in the previous 3 days."
   ]
  },
  {
   "cell_type": "code",
   "execution_count": 164,
   "id": "aaa1c1fa",
   "metadata": {},
   "outputs": [
    {
     "data": {
      "text/plain": [
       "{'foodie_incarnate': 5,\n",
       " 'foodzeee': 3,\n",
       " 'dilsefoodie': 2,\n",
       " 'foodtalkindia': 4,\n",
       " 'food': 1}"
      ]
     },
     "execution_count": 164,
     "metadata": {},
     "output_type": "execute_result"
    }
   ],
   "source": [
    "#Previous 3 days include today,yesterday and day before yesterday\n",
    "no_post_dict={}\n",
    "wait=WebDriverWait(driver,10)\n",
    "for acc in top_5_list:\n",
    "    driver.get(\"https://www.instagram.com/\"+str(acc))\n",
    "    posts=wait.until(EC.presence_of_all_elements_located((By.CLASS_NAME,'_9AhH0')))\n",
    "    no_posts=0\n",
    "    if len(posts)>0:\n",
    "        posts[0].click()\n",
    "        while True:\n",
    "            days_data= wait.until(EC.presence_of_element_located((By.CLASS_NAME, '_1o9PC')))\n",
    "            days_data=days_data.get_attribute('innerHTML').split()\n",
    "            #this case handles today's posts\n",
    "            if days_data[1]=='minutes' or days_data[1]=='minute' or days_data[1]=='hour' or days_data[1]=='hours' or days_data[1]=='seconds' or days_data[1]=='second':\n",
    "                no_posts+=1\n",
    "            #this case handles yesterday and day before yesterday's posts\n",
    "            elif int(days_data[0])<3:\n",
    "                no_posts+=1\n",
    "            #in this case loop breaks out if there is anything beyond last 2 days\n",
    "            else:\n",
    "                break\n",
    "            next_button=driver.find_element(By.CLASS_NAME,'l8mY4') #clicking on next button\n",
    "            next_button.click()\n",
    "        \n",
    "    no_post_dict[acc]=no_posts\n",
    "    \n",
    "no_post_dict"
   ]
  },
  {
   "cell_type": "markdown",
   "id": "05bc0314",
   "metadata": {},
   "source": [
    "# 1/3.Depict this information using a suitable graph."
   ]
  },
  {
   "cell_type": "code",
   "execution_count": 165,
   "id": "3d268b21",
   "metadata": {},
   "outputs": [
    {
     "data": {
      "image/png": "[encoded data removed]",
      "text/plain": [
       "<Figure size 432x288 with 1 Axes>"
      ]
     },
     "metadata": {
      "needs_background": "light"
     },
     "output_type": "display_data"
    }
   ],
   "source": [
    "plt.bar(no_post_dict.keys(),no_post_dict.values(),color='red')\n",
    "plt.xticks(rotation=45)\n",
    "plt.xlabel('Instagram Handles')\n",
    "plt.ylabel('Number of Posts in last 3 days')\n",
    "plt.title('Instabot -2')\n",
    "plt.show()"
   ]
  },
  {
   "cell_type": "markdown",
   "id": "e4a012fd",
   "metadata": {},
   "source": [
    "# 2/1. Open the 5 handles you obtained in the last question, and scrape the content of the first 10 posts of each handle.\n",
    "\n",
    "# 2/2. Prepare a list of all words used in all the scraped posts and calculate the frequency of each word."
   ]
  },
  {
   "cell_type": "code",
   "execution_count": 116,
   "id": "d2167389",
   "metadata": {
    "scrolled": false
   },
   "outputs": [],
   "source": [
    "#words count and hashtag count has been obtained separately\n",
    "words_count={}\n",
    "hashtag_count={}\n",
    "wait=WebDriverWait(driver,10)\n",
    "for acc in top_5_list:\n",
    "    driver.get(\"https://www.instagram.com/\"+str(acc))\n",
    "    posts=wait.until(EC.presence_of_all_elements_located((By.CLASS_NAME,'_9AhH0')))\n",
    "    posts[0].click()\n",
    "    for i in range(10):\n",
    "        words=wait.until(EC.presence_of_element_located((By.CLASS_NAME,'C4VMK'))).text.replace('\\n',' ').replace('#',' #')\n",
    "        words= re.split(\"[^a-zA-Z_0-9#]\", words) #removing all special characters and emojis\n",
    "        words=words[1:-1] #removing the handle name and time\n",
    "        for w in words:\n",
    "            if w!='' and w!='Verified':\n",
    "                if w[0]=='#':\n",
    "                    hashtag_count[w]=hashtag_count.get(w,0)+1\n",
    "                else:\n",
    "                    w=w.lower()\n",
    "                    words_count[w]=words_count.get(w,0)+1\n",
    "        next_button=driver.find_element(By.CLASS_NAME,'l8mY4')\n",
    "        next_button.click()"
   ]
  },
  {
   "cell_type": "markdown",
   "id": "3b2e166e",
   "metadata": {},
   "source": [
    "# 2/3 Create a csv file with two columns : the word and its frequency"
   ]
  },
  {
   "cell_type": "code",
   "execution_count": 119,
   "id": "8481d0ad",
   "metadata": {},
   "outputs": [],
   "source": [
    "df=pd.DataFrame(list(zip(words_count.keys(),words_count.values())),columns=['Word','Frequency'])\n",
    "\n",
    "df.to_csv('Words Frequency.csv',index=False)"
   ]
  },
  {
   "cell_type": "markdown",
   "id": "b1a00cf7",
   "metadata": {},
   "source": [
    "# 2/4 Now, find the hashtags that were most popular among these bloggers"
   ]
  },
  {
   "cell_type": "code",
   "execution_count": null,
   "id": "5489629a",
   "metadata": {},
   "outputs": [],
   "source": [
    "hashtag_count=dict(sorted(hashtag_count.items(),key=lambda x:x[1],reverse=True))\n",
    "\n",
    "hashtag_count"
   ]
  },
  {
   "cell_type": "markdown",
   "id": "69b7179f",
   "metadata": {},
   "source": [
    "# 2/5 Plot a Pie Chart of the top 5 hashtags obtained and the number of times they were used by these bloggers in the scraped posts."
   ]
  },
  {
   "cell_type": "code",
   "execution_count": 123,
   "id": "d0f86b3d",
   "metadata": {},
   "outputs": [
    {
     "data": {
      "image/png": "[encoded data removed]",
      "text/plain": [
       "<Figure size 432x288 with 1 Axes>"
      ]
     },
     "metadata": {},
     "output_type": "display_data"
    }
   ],
   "source": [
    "top_5_hashtags=[]\n",
    "top_5_hashtags_freq=[]\n",
    "count=0\n",
    "\n",
    "for key,val in hashtag_count.items():\n",
    "    if count==5:\n",
    "        break\n",
    "    top_5_hashtags.append(key)\n",
    "    top_5_hashtags_freq.append(val)\n",
    "    count+=1\n",
    "\n",
    "plt.pie(top_5_hashtags_freq,labels=top_5_hashtags,autopct='%.2f%%')\n",
    "plt.show()"
   ]
  },
  {
   "cell_type": "markdown",
   "id": "52237abf",
   "metadata": {},
   "source": [
    "# 3/1 Find out the likes of the top 10 posts of the 5 handles obtained earlier."
   ]
  },
  {
   "cell_type": "code",
   "execution_count": 150,
   "id": "6c4ea23c",
   "metadata": {},
   "outputs": [
    {
     "data": {
      "text/plain": [
       "{'foodie_incarnate': [595388, 10],\n",
       " 'foodzeee': [395017, 10],\n",
       " 'dilsefoodie': [89479, 10],\n",
       " 'foodtalkindia': [3861, 10],\n",
       " 'food': [6657, 10]}"
      ]
     },
     "execution_count": 150,
     "metadata": {},
     "output_type": "execute_result"
    }
   ],
   "source": [
    "likes_dict={}\n",
    "for acc in top_5_list:\n",
    "    driver.get(\"https://www.instagram.com/\"+str(acc))\n",
    "    posts=wait.until(EC.presence_of_all_elements_located((By.CLASS_NAME,'_9AhH0')))\n",
    "    posts[0].click()\n",
    "    count=0\n",
    "    post_count=10\n",
    "    for i in range(10):\n",
    "        like_details=wait.until(EC.presence_of_element_located((By.CLASS_NAME,'EDfFK'))).text\n",
    "        like_details=like_details.replace(',','').split()\n",
    "        if like_details[0]=='Liked':\n",
    "            count+=int(like_details[4])+1\n",
    "        elif like_details[1]=='views':\n",
    "            temp=driver.find_element(By.CLASS_NAME,'vcOH2')\n",
    "            temp.click()\n",
    "            temp=driver.find_element(By.CLASS_NAME,'vJRqr')\n",
    "            count+=int(temp.text.replace(',','').split()[0])\n",
    "        else:\n",
    "            count+=int(like_details[0])\n",
    "        try:\n",
    "            next_button=driver.find_element(By.CLASS_NAME,'l8mY4')\n",
    "            next_button.click()\n",
    "        except:\n",
    "            post_count=i+1   #incase there are less than 10 posts in the account\n",
    "            break\n",
    "    likes_dict[acc]=[count,post_count]\n",
    "\n",
    "likes_dict"
   ]
  },
  {
   "cell_type": "markdown",
   "id": "01d5aba6",
   "metadata": {},
   "source": [
    "# 3/2 Calculate the average likes for a handle."
   ]
  },
  {
   "cell_type": "code",
   "execution_count": 151,
   "id": "fa9e87bc",
   "metadata": {},
   "outputs": [
    {
     "data": {
      "text/plain": [
       "{'foodie_incarnate': 59538,\n",
       " 'foodzeee': 39501,\n",
       " 'dilsefoodie': 8947,\n",
       " 'foodtalkindia': 386,\n",
       " 'food': 665}"
      ]
     },
     "execution_count": 151,
     "metadata": {},
     "output_type": "execute_result"
    }
   ],
   "source": [
    "avg_likes_dict={}\n",
    "\n",
    "for key,val in likes_dict.items():\n",
    "    avg_likes_dict[key]=val[0]//val[1]  #number of likes divided by number of posts scraped\n",
    "\n",
    "avg_likes_dict"
   ]
  },
  {
   "cell_type": "markdown",
   "id": "8f0940a5",
   "metadata": {},
   "source": [
    "# 3/3 Divide the average likes obtained from the number of followers of the handle to get the average followers:like ratio of each handle."
   ]
  },
  {
   "cell_type": "code",
   "execution_count": 153,
   "id": "66f5e272",
   "metadata": {},
   "outputs": [
    {
     "data": {
      "text/plain": [
       "{'foodie_incarnate': 20,\n",
       " 'foodzeee': 28,\n",
       " 'dilsefoodie': 108,\n",
       " 'foodtalkindia': 797,\n",
       " 'food': 240}"
      ]
     },
     "execution_count": 153,
     "metadata": {},
     "output_type": "execute_result"
    }
   ],
   "source": [
    "follower_likes_ratio={}\n",
    "for acc in top_5_list:\n",
    "    follower_likes_ratio[acc]= followers_dict[acc] // avg_likes_dict[acc]\n",
    "\n",
    "follower_likes_ratio"
   ]
  },
  {
   "cell_type": "markdown",
   "id": "e025d5ea",
   "metadata": {},
   "source": [
    "# 3/4 Create a bar graph to depict the above obtained information."
   ]
  },
  {
   "cell_type": "code",
   "execution_count": 155,
   "id": "979019df",
   "metadata": {},
   "outputs": [
    {
     "data": {
      "image/png": "[encoded data removed]",
      "text/plain": [
       "<Figure size 432x288 with 1 Axes>"
      ]
     },
     "metadata": {
      "needs_background": "light"
     },
     "output_type": "display_data"
    }
   ],
   "source": [
    "plt.bar(follower_likes_ratio.keys(),follower_likes_ratio.values(),color='black')\n",
    "plt.xticks(rotation=45)\n",
    "plt.xlabel('Instagram Handles')\n",
    "plt.ylabel('Average Followers:Like ratio')\n",
    "plt.title('Average Followers:Like ratio of each handle')\n",
    "plt.show()"
   ]
  }
 ],
 "metadata": {
  "kernelspec": {
   "display_name": "Python 3",
   "language": "python",
   "name": "python3"
  },
  "language_info": {
   "codemirror_mode": {
    "name": "ipython",
    "version": 3
   },
   "file_extension": ".py",
   "mimetype": "text/x-python",
   "name": "python",
   "nbconvert_exporter": "python",
   "pygments_lexer": "ipython3",
   "version": "3.8.8"
  }
 },
 "nbformat": 4,
 "nbformat_minor": 5
}
